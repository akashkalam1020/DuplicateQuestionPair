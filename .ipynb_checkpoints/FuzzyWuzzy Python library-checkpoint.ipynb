{
 "cells": [
  {
   "cell_type": "code",
   "execution_count": 2,
   "id": "60ed241c",
   "metadata": {},
   "outputs": [],
   "source": [
    "from fuzzywuzzy import fuzz, process"
   ]
  },
  {
   "cell_type": "code",
   "execution_count": 8,
   "id": "4d4bc78b",
   "metadata": {},
   "outputs": [
    {
     "name": "stdout",
     "output_type": "stream",
     "text": [
      "95\n",
      "30\n",
      "100\n"
     ]
    }
   ],
   "source": [
    "# ratio in percentage\n",
    "\n",
    "print(fuzz.ratio('Learn programming languages','Learning programming languages'))\n",
    "print(fuzz.ratio('I AM A BOY','i am a boy'))\n",
    "print(fuzz.ratio('i am a boy','i am a boy'))"
   ]
  },
  {
   "cell_type": "code",
   "execution_count": 32,
   "id": "212c0a6e",
   "metadata": {},
   "outputs": [
    {
     "name": "stdout",
     "output_type": "stream",
     "text": [
      "95\n",
      "100\n",
      "100\n"
     ]
    }
   ],
   "source": [
    "# WRatio in percentage (WRatio handles lower and upper cases)\n",
    "\n",
    "print(fuzz.WRatio('Learn programming languages','Learning programming languages'))\n",
    "print(fuzz.WRatio('I AM A BOY','i am a boy'))\n",
    "print(fuzz.WRatio('i am a boy','i am a boy'))"
   ]
  },
  {
   "cell_type": "code",
   "execution_count": 16,
   "id": "a51fcce7",
   "metadata": {},
   "outputs": [
    {
     "name": "stdout",
     "output_type": "stream",
     "text": [
      "89\n",
      "87\n",
      "100\n",
      "100\n"
     ]
    }
   ],
   "source": [
    "# partial_ratio in percentage \n",
    "\n",
    "print(fuzz.partial_ratio('Learn programming languages','Learning programming languages'))\n",
    "print(fuzz.partial_ratio('Learning the programming languages','Learning programming languages')) # the\n",
    "print(fuzz.partial_ratio('Learning programming languages','Learning programming languages'))\n",
    "print(fuzz.partial_ratio('Learning programming languages','Learning programming languages assdfsdfdf')) # total match"
   ]
  },
  {
   "cell_type": "code",
   "execution_count": 43,
   "id": "e91b1fbc",
   "metadata": {},
   "outputs": [
    {
     "name": "stdout",
     "output_type": "stream",
     "text": [
      "95\n",
      "94\n",
      "100\n"
     ]
    }
   ],
   "source": [
    "# token_sort_ratio in percentage (This gives 100 as every word is same, irrespective of the position)\n",
    "\n",
    "print(fuzz.token_sort_ratio('Learn programming languages','Learning programming languages'))\n",
    "print(fuzz.token_sort_ratio('Learning the programming languages','Learning programming languages')) # the\n",
    "print(fuzz.token_sort_ratio('Learning programming languages','programming languages Learning  '))"
   ]
  },
  {
   "cell_type": "code",
   "execution_count": 45,
   "id": "e7ebed70",
   "metadata": {},
   "outputs": [
    {
     "name": "stdout",
     "output_type": "stream",
     "text": [
      "89\n",
      "100\n",
      "100\n"
     ]
    }
   ],
   "source": [
    "# token_sort_ratio in percentage (This gives 100 as every word is same, irrespective of the position)\n",
    "\n",
    "print(fuzz.partial_token_sort_ratio('Learn programming languages','Learning programming languages'))\n",
    "print(fuzz.partial_token_sort_ratio('Learning the programming languages','Learning programming languages')) # the\n",
    "print(fuzz.partial_token_sort_ratio('Learning programming languages','programming languages Learning  '))"
   ]
  },
  {
   "cell_type": "code",
   "execution_count": 42,
   "id": "c2e0e2e3",
   "metadata": {},
   "outputs": [
    {
     "name": "stdout",
     "output_type": "stream",
     "text": [
      "87\n",
      "100\n"
     ]
    }
   ],
   "source": [
    "# Difference between token_sort_ratio & token_set_ratio\n",
    "\n",
    "print(fuzz.token_sort_ratio(\"learn for you\", \"learn for for you\"))\n",
    "print(fuzz.token_set_ratio(\"learn for you\", \"learn for for you\"))"
   ]
  },
  {
   "cell_type": "code",
   "execution_count": 35,
   "id": "20ed5fe5",
   "metadata": {},
   "outputs": [
    {
     "name": "stdout",
     "output_type": "stream",
     "text": [
      "100\n",
      "100\n",
      "82\n"
     ]
    }
   ],
   "source": [
    "# token_set_ratio in percentage (Removes duplicates)\n",
    "\n",
    "print(fuzz.token_set_ratio('learn for you','learn for you'))\n",
    "print(fuzz.token_set_ratio('learn for you you','learn for you'))\n",
    "print(fuzz.token_set_ratio('learn for your family','learn for you'))"
   ]
  },
  {
   "cell_type": "code",
   "execution_count": 29,
   "id": "61759d7e",
   "metadata": {},
   "outputs": [
    {
     "name": "stdout",
     "output_type": "stream",
     "text": [
      "[('I know C, C++, Java, Python', 100), ('C, C++', 90), (' do you know', 86), ('C++, Python', 86)]\n"
     ]
    }
   ],
   "source": [
    "# if we have list of list of options and we want to find the closest match(es), we can use the process module\n",
    "\n",
    "string = \"I know C, C++, Java, Python\"\n",
    "ch = ['C, C++',' do you know','C++, Python','I know C, C++, Java, Python']\n",
    "\n",
    "print(process.extract(string, ch))"
   ]
  },
  {
   "cell_type": "code",
   "execution_count": null,
   "id": "c6945f0a",
   "metadata": {},
   "outputs": [],
   "source": []
  }
 ],
 "metadata": {
  "kernelspec": {
   "display_name": "Python 3 (ipykernel)",
   "language": "python",
   "name": "python3"
  },
  "language_info": {
   "codemirror_mode": {
    "name": "ipython",
    "version": 3
   },
   "file_extension": ".py",
   "mimetype": "text/x-python",
   "name": "python",
   "nbconvert_exporter": "python",
   "pygments_lexer": "ipython3",
   "version": "3.7.6"
  }
 },
 "nbformat": 4,
 "nbformat_minor": 5
}
