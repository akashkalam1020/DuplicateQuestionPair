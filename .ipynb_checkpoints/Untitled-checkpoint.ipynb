{
 "cells": [
  {
   "cell_type": "code",
   "execution_count": 1,
   "id": "f6e2c56a",
   "metadata": {},
   "outputs": [],
   "source": [
    "import numpy as np\n",
    "import pandas as pd\n",
    "import matplotlib.pyplot as plt\n",
    "import seaborn as sns\n",
    "\n",
    "from sklearn.feature_extraction.text import CountVectorizer\n",
    "from sklearn.model_selection import train_test_split, GridSearchCV\n",
    "from sklearn.ensemble import RandomForestClassifier\n",
    "from sklearn.naive_bayes import MultinomialNB, BernoulliNB\n",
    "from sklearn.metrics import accuracy_score, confusion_matrix, classification_report\n",
    "\n",
    "from nltk.corpus import stopwords\n",
    "from fuzzywuzzy import fuzz\n",
    "from nltk.stem import LancasterStemmer, PorterStemmer, SnowballStemmer, WordNetLemmatizer\n",
    "\n",
    "from bs4 import BeautifulSoup\n",
    "import re\n",
    "import time\n",
    "\n",
    "import warnings\n",
    "warnings.filterwarnings('ignore')"
   ]
  },
  {
   "cell_type": "code",
   "execution_count": 26,
   "id": "1ac5aa7d",
   "metadata": {},
   "outputs": [
    {
     "name": "stdout",
     "output_type": "stream",
     "text": [
      "shape (404290, 6)\n",
      "shape (10000, 6)\n"
     ]
    }
   ],
   "source": [
    "df = pd.read_csv('train.csv')\n",
    "print(\"shape\",df.shape)\n",
    "\n",
    "new_df = df.sample(10000,random_state=5)\n",
    "print(\"shape\",new_df.shape)\n"
   ]
  },
  {
   "cell_type": "code",
   "execution_count": 3,
   "id": "7bde8193",
   "metadata": {},
   "outputs": [],
   "source": [
    "def preprocess(q):\n",
    "    q = str(q).lower().strip()\n",
    "    \n",
    "    # Replace certain special characters with their string equivalents\n",
    "    q = q.replace('%', ' percent')\n",
    "    q = q.replace('$', ' dollar ')\n",
    "    q = q.replace('₹', ' rupee ')\n",
    "    q = q.replace('€', ' euro ')\n",
    "    q = q.replace('@', ' at ')\n",
    "    \n",
    "    # The pattern '[math]' appears around 900 times in the whole dataset.\n",
    "    q = q.replace('[math]', '')\n",
    "    \n",
    "    # Replacing some numbers with string equivalents (not perfect, can be done better to account for more cases)\n",
    "    q = q.replace(',000,000,000 ', 'b ')\n",
    "    q = q.replace(',000,000 ', 'm ')\n",
    "    q = q.replace(',000 ', 'k ')\n",
    "    q = re.sub(r'([0-9]+)000000000', r'\\1b', q)\n",
    "    q = re.sub(r'([0-9]+)000000', r'\\1m', q)\n",
    "    q = re.sub(r'([0-9]+)000', r'\\1k', q)\n",
    "    \n",
    "    from contractions import contraction\n",
    "    q_decontracted = []\n",
    "\n",
    "    for word in q.split():\n",
    "        if word in contraction:\n",
    "            word = contraction[word]\n",
    "        q_decontracted.append(word)\n",
    "            \n",
    "    q = ' '.join(q_decontracted)\n",
    "    q = q.replace(\"'ve\", \" have\")\n",
    "    q = q.replace(\"n't\", \" not\")\n",
    "    q = q.replace(\"'re\", \" are\")\n",
    "    q = q.replace(\"'ll\", \" will\")\n",
    "\n",
    "    \n",
    "    # Removing HTML tags\n",
    "    \n",
    "    q = BeautifulSoup(q)\n",
    "    q = q.get_text()\n",
    "    \n",
    "    # Remove punctuations\n",
    "    pattern = re.compile('\\W')\n",
    "    q = re.sub(pattern, ' ', q).strip()\n",
    "\n",
    "    \n",
    "    return q"
   ]
  },
  {
   "cell_type": "code",
   "execution_count": 27,
   "id": "e3122e31",
   "metadata": {},
   "outputs": [
    {
     "data": {
      "text/plain": [
       "'i have already  was not done'"
      ]
     },
     "execution_count": 27,
     "metadata": {},
     "output_type": "execute_result"
    }
   ],
   "source": [
    "preprocess(\"I've already! wasn't <b>done</b>?\")"
   ]
  },
  {
   "cell_type": "code",
   "execution_count": 28,
   "id": "7d4e9ea2",
   "metadata": {},
   "outputs": [],
   "source": [
    "new_df['question1'] = new_df['question1'].apply(preprocess)\n",
    "new_df['question2'] = new_df['question2'].apply(preprocess)"
   ]
  },
  {
   "cell_type": "code",
   "execution_count": 29,
   "id": "8de0d68d",
   "metadata": {},
   "outputs": [],
   "source": [
    "# Feature Engineering\n",
    "\n",
    "new_df['q1_len'] = new_df['question1'].str.len() \n",
    "new_df['q2_len'] = new_df['question2'].str.len()\n",
    "\n",
    "new_df['q1_num_words'] = new_df['question1'].apply(lambda row: len(row.split(\" \")))\n",
    "new_df['q2_num_words'] = new_df['question2'].apply(lambda row: len(row.split(\" \")))"
   ]
  },
  {
   "cell_type": "code",
   "execution_count": 30,
   "id": "0bbd3ce5",
   "metadata": {},
   "outputs": [],
   "source": [
    "def common_words(row):\n",
    "    w1 = set(map(lambda word: word.lower().strip(), row['question1'].split(\" \")))\n",
    "    w2 = set(map(lambda word: word.lower().strip(), row['question2'].split(\" \")))    \n",
    "    return len(w1 & w2)\n",
    "\n",
    "def total_words(row):\n",
    "    w1 = set(map(lambda word: word.lower().strip(), row['question1'].split(\" \")))\n",
    "    w2 = set(map(lambda word: word.lower().strip(), row['question2'].split(\" \")))    \n",
    "    return (len(w1) + len(w2))"
   ]
  },
  {
   "cell_type": "code",
   "execution_count": 31,
   "id": "a3ed6a76",
   "metadata": {},
   "outputs": [],
   "source": [
    "new_df['word_common'] = new_df.apply(common_words, axis=1)\n",
    "new_df['word_total'] = new_df.apply(total_words, axis=1)\n",
    "new_df['word_share'] = round(new_df['word_common']/new_df['word_total'],2)"
   ]
  },
  {
   "cell_type": "code",
   "execution_count": 8,
   "id": "77216708",
   "metadata": {},
   "outputs": [],
   "source": [
    "# Advanced Features\n",
    "\n",
    "def fetch_token_features(row):\n",
    "    \n",
    "    q1 = row['question1']\n",
    "    q2 = row['question2']\n",
    "    \n",
    "    SAFE_DIV = 0.0001 \n",
    "\n",
    "    STOP_WORDS = stopwords.words(\"english\")\n",
    "    \n",
    "    token_features = [0.0]*8\n",
    "    \n",
    "    # Converting the Sentence into Tokens: \n",
    "    q1_tokens = q1.split()\n",
    "    q2_tokens = q2.split()\n",
    "    \n",
    "    if len(q1_tokens) == 0 or len(q2_tokens) == 0:\n",
    "        return token_features\n",
    "\n",
    "    # Get the non-stopwords in Questions\n",
    "    q1_words = set([word for word in q1_tokens if word not in STOP_WORDS])\n",
    "    q2_words = set([word for word in q2_tokens if word not in STOP_WORDS])\n",
    "    \n",
    "    #Get the stopwords in Questions\n",
    "    q1_stops = set([word for word in q1_tokens if word in STOP_WORDS])\n",
    "    q2_stops = set([word for word in q2_tokens if word in STOP_WORDS])\n",
    "    \n",
    "    # Get the common non-stopwords from Question pair\n",
    "    common_word_count = len(q1_words.intersection(q2_words))\n",
    "    \n",
    "    # Get the common stopwords from Question pair\n",
    "    common_stop_count = len(q1_stops.intersection(q2_stops))\n",
    "    \n",
    "    # Get the common Tokens from Question pair\n",
    "    common_token_count = len(set(q1_tokens).intersection(set(q2_tokens)))\n",
    "    \n",
    "    \n",
    "    token_features[0] = common_word_count / (min(len(q1_words), len(q2_words)) + SAFE_DIV)\n",
    "    token_features[1] = common_word_count / (max(len(q1_words), len(q2_words)) + SAFE_DIV)\n",
    "    token_features[2] = common_stop_count / (min(len(q1_stops), len(q2_stops)) + SAFE_DIV)\n",
    "    token_features[3] = common_stop_count / (max(len(q1_stops), len(q2_stops)) + SAFE_DIV)\n",
    "    token_features[4] = common_token_count / (min(len(q1_tokens), len(q2_tokens)) + SAFE_DIV)\n",
    "    token_features[5] = common_token_count / (max(len(q1_tokens), len(q2_tokens)) + SAFE_DIV)\n",
    "    \n",
    "    # Last word of both question is same or not\n",
    "    token_features[6] = int(q1_tokens[-1] == q2_tokens[-1])\n",
    "    \n",
    "    # First word of both question is same or not\n",
    "    token_features[7] = int(q1_tokens[0] == q2_tokens[0])\n",
    "    \n",
    "    return token_features"
   ]
  },
  {
   "cell_type": "code",
   "execution_count": 32,
   "id": "abe0c6f5",
   "metadata": {},
   "outputs": [],
   "source": [
    "token_features = new_df.apply(fetch_token_features, axis=1)\n",
    "\n",
    "new_df[\"cwc_min\"]       = list(map(lambda x: x[0], token_features))\n",
    "new_df[\"cwc_max\"]       = list(map(lambda x: x[1], token_features))\n",
    "new_df[\"csc_min\"]       = list(map(lambda x: x[2], token_features))\n",
    "new_df[\"csc_max\"]       = list(map(lambda x: x[3], token_features))\n",
    "new_df[\"ctc_min\"]       = list(map(lambda x: x[4], token_features))\n",
    "new_df[\"ctc_max\"]       = list(map(lambda x: x[5], token_features))\n",
    "new_df[\"last_word_eq\"]  = list(map(lambda x: x[6], token_features))\n",
    "new_df[\"first_word_eq\"] = list(map(lambda x: x[7], token_features))"
   ]
  },
  {
   "cell_type": "code",
   "execution_count": 10,
   "id": "b5c17d14",
   "metadata": {},
   "outputs": [],
   "source": [
    "# Fuzzy Features\n",
    "\n",
    "def fetch_fuzzy_features(row):\n",
    "    \n",
    "    q1 = row['question1']\n",
    "    q2 = row['question2']\n",
    "    \n",
    "    fuzzy_features = [0.0]*4\n",
    "    \n",
    "    # fuzz_ratio\n",
    "    fuzzy_features[0] = fuzz.QRatio(q1, q2)\n",
    "\n",
    "    # fuzz_partial_ratio\n",
    "    fuzzy_features[1] = fuzz.partial_ratio(q1, q2)\n",
    "\n",
    "    # token_sort_ratio\n",
    "    fuzzy_features[2] = fuzz.token_sort_ratio(q1, q2)\n",
    "\n",
    "    # token_set_ratio\n",
    "    fuzzy_features[3] = fuzz.token_set_ratio(q1, q2)\n",
    "\n",
    "    return fuzzy_features"
   ]
  },
  {
   "cell_type": "code",
   "execution_count": 33,
   "id": "f4889de6",
   "metadata": {},
   "outputs": [],
   "source": [
    "fuzzy_features = new_df.apply(fetch_fuzzy_features, axis=1)\n",
    "\n",
    "# Creating new feature columns for fuzzy features\n",
    "new_df['fuzz_ratio'] = list(map(lambda x: x[0], fuzzy_features))\n",
    "new_df['fuzz_partial_ratio'] = list(map(lambda x: x[1], fuzzy_features))\n",
    "new_df['token_sort_ratio'] = list(map(lambda x: x[2], fuzzy_features))\n",
    "new_df['token_set_ratio'] = list(map(lambda x: x[3], fuzzy_features))"
   ]
  },
  {
   "cell_type": "code",
   "execution_count": 37,
   "id": "7206dd3d",
   "metadata": {},
   "outputs": [],
   "source": [
    "\n",
    "final_df = new_df.drop(columns=['id','qid1','qid2','question1','question2'])"
   ]
  },
  {
   "cell_type": "code",
   "execution_count": 41,
   "id": "d04bcc71",
   "metadata": {},
   "outputs": [
    {
     "name": "stdout",
     "output_type": "stream",
     "text": [
      "(10000, 20)\n"
     ]
    },
    {
     "data": {
      "text/html": [
       "<div>\n",
       "<style scoped>\n",
       "    .dataframe tbody tr th:only-of-type {\n",
       "        vertical-align: middle;\n",
       "    }\n",
       "\n",
       "    .dataframe tbody tr th {\n",
       "        vertical-align: top;\n",
       "    }\n",
       "\n",
       "    .dataframe thead th {\n",
       "        text-align: right;\n",
       "    }\n",
       "</style>\n",
       "<table border=\"1\" class=\"dataframe\">\n",
       "  <thead>\n",
       "    <tr style=\"text-align: right;\">\n",
       "      <th></th>\n",
       "      <th>327710</th>\n",
       "      <th>162790</th>\n",
       "      <th>48929</th>\n",
       "      <th>379811</th>\n",
       "      <th>228396</th>\n",
       "    </tr>\n",
       "  </thead>\n",
       "  <tbody>\n",
       "    <tr>\n",
       "      <th>is_duplicate</th>\n",
       "      <td>0.000000</td>\n",
       "      <td>1.000000</td>\n",
       "      <td>1.000000</td>\n",
       "      <td>0.0</td>\n",
       "      <td>0.000000</td>\n",
       "    </tr>\n",
       "    <tr>\n",
       "      <th>q1_len</th>\n",
       "      <td>75.000000</td>\n",
       "      <td>26.000000</td>\n",
       "      <td>44.000000</td>\n",
       "      <td>40.0</td>\n",
       "      <td>48.000000</td>\n",
       "    </tr>\n",
       "    <tr>\n",
       "      <th>q2_len</th>\n",
       "      <td>194.000000</td>\n",
       "      <td>46.000000</td>\n",
       "      <td>78.000000</td>\n",
       "      <td>107.0</td>\n",
       "      <td>49.000000</td>\n",
       "    </tr>\n",
       "    <tr>\n",
       "      <th>q1_num_words</th>\n",
       "      <td>14.000000</td>\n",
       "      <td>5.000000</td>\n",
       "      <td>7.000000</td>\n",
       "      <td>8.0</td>\n",
       "      <td>8.000000</td>\n",
       "    </tr>\n",
       "    <tr>\n",
       "      <th>q2_num_words</th>\n",
       "      <td>42.000000</td>\n",
       "      <td>8.000000</td>\n",
       "      <td>14.000000</td>\n",
       "      <td>19.0</td>\n",
       "      <td>7.000000</td>\n",
       "    </tr>\n",
       "    <tr>\n",
       "      <th>word_common</th>\n",
       "      <td>6.000000</td>\n",
       "      <td>1.000000</td>\n",
       "      <td>5.000000</td>\n",
       "      <td>0.0</td>\n",
       "      <td>5.000000</td>\n",
       "    </tr>\n",
       "    <tr>\n",
       "      <th>word_total</th>\n",
       "      <td>46.000000</td>\n",
       "      <td>13.000000</td>\n",
       "      <td>21.000000</td>\n",
       "      <td>26.0</td>\n",
       "      <td>15.000000</td>\n",
       "    </tr>\n",
       "    <tr>\n",
       "      <th>word_share</th>\n",
       "      <td>0.130000</td>\n",
       "      <td>0.080000</td>\n",
       "      <td>0.240000</td>\n",
       "      <td>0.0</td>\n",
       "      <td>0.330000</td>\n",
       "    </tr>\n",
       "    <tr>\n",
       "      <th>cwc_min</th>\n",
       "      <td>0.428565</td>\n",
       "      <td>0.499975</td>\n",
       "      <td>0.999975</td>\n",
       "      <td>0.0</td>\n",
       "      <td>0.799984</td>\n",
       "    </tr>\n",
       "    <tr>\n",
       "      <th>cwc_max</th>\n",
       "      <td>0.187499</td>\n",
       "      <td>0.249994</td>\n",
       "      <td>0.444440</td>\n",
       "      <td>0.0</td>\n",
       "      <td>0.799984</td>\n",
       "    </tr>\n",
       "    <tr>\n",
       "      <th>csc_min</th>\n",
       "      <td>0.599988</td>\n",
       "      <td>0.000000</td>\n",
       "      <td>0.333322</td>\n",
       "      <td>0.0</td>\n",
       "      <td>0.499975</td>\n",
       "    </tr>\n",
       "    <tr>\n",
       "      <th>csc_max</th>\n",
       "      <td>0.176470</td>\n",
       "      <td>0.000000</td>\n",
       "      <td>0.199996</td>\n",
       "      <td>0.0</td>\n",
       "      <td>0.333322</td>\n",
       "    </tr>\n",
       "    <tr>\n",
       "      <th>ctc_min</th>\n",
       "      <td>0.428568</td>\n",
       "      <td>0.199996</td>\n",
       "      <td>0.714276</td>\n",
       "      <td>0.0</td>\n",
       "      <td>0.714276</td>\n",
       "    </tr>\n",
       "    <tr>\n",
       "      <th>ctc_max</th>\n",
       "      <td>0.157894</td>\n",
       "      <td>0.124998</td>\n",
       "      <td>0.357140</td>\n",
       "      <td>0.0</td>\n",
       "      <td>0.624992</td>\n",
       "    </tr>\n",
       "    <tr>\n",
       "      <th>last_word_eq</th>\n",
       "      <td>0.000000</td>\n",
       "      <td>0.000000</td>\n",
       "      <td>1.000000</td>\n",
       "      <td>0.0</td>\n",
       "      <td>0.000000</td>\n",
       "    </tr>\n",
       "    <tr>\n",
       "      <th>first_word_eq</th>\n",
       "      <td>0.000000</td>\n",
       "      <td>0.000000</td>\n",
       "      <td>0.000000</td>\n",
       "      <td>0.0</td>\n",
       "      <td>1.000000</td>\n",
       "    </tr>\n",
       "    <tr>\n",
       "      <th>fuzz_ratio</th>\n",
       "      <td>37.000000</td>\n",
       "      <td>61.000000</td>\n",
       "      <td>69.000000</td>\n",
       "      <td>37.0</td>\n",
       "      <td>80.000000</td>\n",
       "    </tr>\n",
       "    <tr>\n",
       "      <th>fuzz_partial_ratio</th>\n",
       "      <td>53.000000</td>\n",
       "      <td>69.000000</td>\n",
       "      <td>77.000000</td>\n",
       "      <td>48.0</td>\n",
       "      <td>81.000000</td>\n",
       "    </tr>\n",
       "    <tr>\n",
       "      <th>token_sort_ratio</th>\n",
       "      <td>46.000000</td>\n",
       "      <td>56.000000</td>\n",
       "      <td>69.000000</td>\n",
       "      <td>36.0</td>\n",
       "      <td>74.000000</td>\n",
       "    </tr>\n",
       "    <tr>\n",
       "      <th>token_set_ratio</th>\n",
       "      <td>63.000000</td>\n",
       "      <td>56.000000</td>\n",
       "      <td>90.000000</td>\n",
       "      <td>37.0</td>\n",
       "      <td>87.000000</td>\n",
       "    </tr>\n",
       "  </tbody>\n",
       "</table>\n",
       "</div>"
      ],
      "text/plain": [
       "                        327710     162790     48929   379811     228396\n",
       "is_duplicate          0.000000   1.000000   1.000000     0.0   0.000000\n",
       "q1_len               75.000000  26.000000  44.000000    40.0  48.000000\n",
       "q2_len              194.000000  46.000000  78.000000   107.0  49.000000\n",
       "q1_num_words         14.000000   5.000000   7.000000     8.0   8.000000\n",
       "q2_num_words         42.000000   8.000000  14.000000    19.0   7.000000\n",
       "word_common           6.000000   1.000000   5.000000     0.0   5.000000\n",
       "word_total           46.000000  13.000000  21.000000    26.0  15.000000\n",
       "word_share            0.130000   0.080000   0.240000     0.0   0.330000\n",
       "cwc_min               0.428565   0.499975   0.999975     0.0   0.799984\n",
       "cwc_max               0.187499   0.249994   0.444440     0.0   0.799984\n",
       "csc_min               0.599988   0.000000   0.333322     0.0   0.499975\n",
       "csc_max               0.176470   0.000000   0.199996     0.0   0.333322\n",
       "ctc_min               0.428568   0.199996   0.714276     0.0   0.714276\n",
       "ctc_max               0.157894   0.124998   0.357140     0.0   0.624992\n",
       "last_word_eq          0.000000   0.000000   1.000000     0.0   0.000000\n",
       "first_word_eq         0.000000   0.000000   0.000000     0.0   1.000000\n",
       "fuzz_ratio           37.000000  61.000000  69.000000    37.0  80.000000\n",
       "fuzz_partial_ratio   53.000000  69.000000  77.000000    48.0  81.000000\n",
       "token_sort_ratio     46.000000  56.000000  69.000000    36.0  74.000000\n",
       "token_set_ratio      63.000000  56.000000  90.000000    37.0  87.000000"
      ]
     },
     "execution_count": 41,
     "metadata": {},
     "output_type": "execute_result"
    }
   ],
   "source": [
    "print(final_df.shape)\n",
    "final_df.head().T"
   ]
  },
  {
   "cell_type": "code",
   "execution_count": 42,
   "id": "bc5d5b18",
   "metadata": {},
   "outputs": [],
   "source": [
    "# ques_df = new_df[['question1','question2']]\n",
    "# questions = list(ques_df['question1']) + list(ques_df['question2'])\n",
    "\n",
    "# final_df = new_df.drop(columns=['id','qid1','qid2','question1','question2'])\n",
    "# print(final_df.shape)\n",
    "# final_df.head()"
   ]
  },
  {
   "cell_type": "code",
   "execution_count": 19,
   "id": "20e0c993",
   "metadata": {},
   "outputs": [],
   "source": [
    "# cv = CountVectorizer()\n",
    "# q1_arr, q2_arr = np.vsplit(cv.fit_transform(questions).toarray(),2)"
   ]
  },
  {
   "cell_type": "code",
   "execution_count": null,
   "id": "954c7dde",
   "metadata": {},
   "outputs": [],
   "source": []
  },
  {
   "cell_type": "code",
   "execution_count": null,
   "id": "3e159e8d",
   "metadata": {},
   "outputs": [],
   "source": [
    "x_train,x_test,y_train,y_test = train_test_split(final_df.iloc[:,1:].values,final_df.iloc[:,0].values,test_size=0.2,random_state=1)"
   ]
  },
  {
   "cell_type": "code",
   "execution_count": 47,
   "id": "ec11527f",
   "metadata": {},
   "outputs": [
    {
     "name": "stdout",
     "output_type": "stream",
     "text": [
      "Total: (10000, 25)\n",
      "x_train: (7000, 19)\n",
      "y_train: (7000,)\n",
      "x_test: (3000, 19)\n",
      "y_test: (3000,)\n"
     ]
    }
   ],
   "source": [
    "x = new_df.drop(['is_duplicate','id','qid1','qid2','question1','question2'],axis = 1)\n",
    "y = new_df['is_duplicate']\n",
    "\n",
    "x_train, x_test, y_train, y_test = train_test_split(x,y,random_state=100,test_size=0.3,stratify=y)\n",
    "print(\"Total:\",new_df.shape)\n",
    "print(\"x_train:\",x_train.shape)\n",
    "print(\"y_train:\",y_train.shape)\n",
    "print(\"x_test:\",x_test.shape)\n",
    "print(\"y_test:\",y_test.shape)\n"
   ]
  },
  {
   "cell_type": "code",
   "execution_count": 20,
   "id": "bfa0a987",
   "metadata": {},
   "outputs": [
    {
     "data": {
      "text/plain": [
       "(30000, 6000)"
      ]
     },
     "execution_count": 20,
     "metadata": {},
     "output_type": "execute_result"
    }
   ],
   "source": [
    "# temp_df1 = pd.DataFrame(q1_arr, index= ques_df.index)\n",
    "# temp_df2 = pd.DataFrame(q2_arr, index= ques_df.index)\n",
    "# temp_df = pd.concat([temp_df1, temp_df2], axis=1)\n",
    "# temp_df.shape"
   ]
  },
  {
   "cell_type": "code",
   "execution_count": 21,
   "id": "3c867048",
   "metadata": {},
   "outputs": [],
   "source": [
    "# to avoid MemoryError: Unable to allocate 283. GiB for an array with shape (156816, 36, 53806) and data type uint8\n",
    "\n",
    "final_df = final_df.astype(np.uint8)\n",
    "temp_df = temp_df.astype(np.uint8)"
   ]
  },
  {
   "cell_type": "code",
   "execution_count": 50,
   "id": "136d5439",
   "metadata": {},
   "outputs": [],
   "source": [
    "# final_df = pd.concat([final_df, temp_df], axis=1)\n",
    "# print(final_df.shape)\n",
    "# print(final_df.head())"
   ]
  },
  {
   "cell_type": "code",
   "execution_count": 23,
   "id": "503ad35e",
   "metadata": {},
   "outputs": [],
   "source": []
  },
  {
   "cell_type": "code",
   "execution_count": 55,
   "id": "5e2e8236",
   "metadata": {},
   "outputs": [
    {
     "name": "stdout",
     "output_type": "stream",
     "text": [
      "0.6933333333333334\n",
      "confusion_matrix \n",
      " [[1548  356]\n",
      " [ 564  532]]\n",
      "Time taken for execution : 0.7999451160430908 Seconds\n"
     ]
    }
   ],
   "source": [
    "start_time = time.time()\n",
    "\n",
    "rf = RandomForestClassifier(max_depth=4, max_leaf_nodes=4, min_samples_leaf=2,min_samples_split=4)\n",
    "rf.fit(x_train,y_train)\n",
    "y_pred = rf.predict(x_test)\n",
    "print(accuracy_score(y_test,y_pred))\n",
    "\n",
    "print('confusion_matrix \\n',confusion_matrix(y_test,y_pred))\n",
    "\n",
    "end_time = time.time()\n",
    "\n",
    "print(f\"Time taken for execution : {end_time - start_time} Seconds\")"
   ]
  },
  {
   "cell_type": "code",
   "execution_count": 52,
   "id": "c371e077",
   "metadata": {},
   "outputs": [
    {
     "name": "stdout",
     "output_type": "stream",
     "text": [
      "Time taken for execution : 4.625837564468384 Seconds\n"
     ]
    },
    {
     "data": {
      "image/png": "[encoded data removed]",
      "text/plain": [
       "<Figure size 1152x720 with 1 Axes>"
      ]
     },
     "metadata": {
      "needs_background": "light"
     },
     "output_type": "display_data"
    }
   ],
   "source": [
    "start_time = time.time()\n",
    "\n",
    "rf = RandomForestClassifier(max_depth=4, max_leaf_nodes=4, min_samples_leaf=2,min_samples_split=4)\n",
    "rf.fit(final_df.iloc[:,1:].values,final_df.iloc[:,0].values)\n",
    "f_imp = rf.feature_importances_\n",
    "plt.figure(figsize=(16,10))\n",
    "s1 = pd.Series(rf.feature_importances_,index=x.columns)\n",
    "s1.sort_values().plot(kind= 'barh')\n",
    "\n",
    "end_time = time.time()\n",
    "\n",
    "print(f\"Time taken for execution : {end_time - start_time} Seconds\")"
   ]
  },
  {
   "cell_type": "code",
   "execution_count": 53,
   "id": "db1f0054",
   "metadata": {},
   "outputs": [
    {
     "data": {
      "text/plain": [
       "RandomForestClassifier(max_depth=4, max_leaf_nodes=4, min_samples_leaf=2,\n",
       "                       min_samples_split=4)"
      ]
     },
     "execution_count": 53,
     "metadata": {},
     "output_type": "execute_result"
    }
   ],
   "source": [
    "parameters = {\n",
    "            'criterion' : ['entropy','gini'],\n",
    "            'max_depth' : np.arange(2,5),\n",
    "            'min_samples_split' : np.arange(2,5),\n",
    "            'min_samples_leaf' : np.arange(2,5),\n",
    "            'max_leaf_nodes' : np.arange(2,5)\n",
    "             }\n",
    "gscv_rf = GridSearchCV(rf,parameters,n_jobs=-1)\n",
    "gscv_rf.fit(x_train, y_train)\n",
    "gscv_rf.best_estimator_"
   ]
  },
  {
   "cell_type": "code",
   "execution_count": null,
   "id": "3048b9ea",
   "metadata": {},
   "outputs": [],
   "source": []
  }
 ],
 "metadata": {
  "kernelspec": {
   "display_name": "Python 3 (ipykernel)",
   "language": "python",
   "name": "python3"
  },
  "language_info": {
   "codemirror_mode": {
    "name": "ipython",
    "version": 3
   },
   "file_extension": ".py",
   "mimetype": "text/x-python",
   "name": "python",
   "nbconvert_exporter": "python",
   "pygments_lexer": "ipython3",
   "version": "3.7.6"
  }
 },
 "nbformat": 4,
 "nbformat_minor": 5
}
